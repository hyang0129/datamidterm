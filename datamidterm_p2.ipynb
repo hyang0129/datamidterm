{
  "cells": [
    {
      "metadata": {
        "trusted": true
      },
      "cell_type": "code",
      "source": "import os \n\nos.getcwd()",
      "execution_count": 1,
      "outputs": [
        {
          "output_type": "execute_result",
          "execution_count": 1,
          "data": {
            "text/plain": "'/home/nbuser/library'"
          },
          "metadata": {}
        }
      ]
    },
    {
      "metadata": {
        "trusted": true
      },
      "cell_type": "code",
      "source": "import pandas as pd \nimport ipywidgets as widgets\nfrom IPython.display import display\nfrom matplotlib import pyplot as plt \nfrom ipywidgets import interact, interactive, fixed, interact_manual\nimport numpy as np\n\n%matplotlib inline \n\ndata = pd.read_csv('midtermdata.csv')\n\ncountry_names  = pd.read_csv('wikipedia-iso-country-codes.csv').loc[:, ['English short name lower case', 'Alpha-3 code']]\ncountry_names.columns = ['Name', 'Code']\ncountry_names = country_names.loc[country_names['Code'].isin(data.Code)]\ndata = data.merge(country_names, how = 'inner', on = 'Code')\ndata = data.iloc[:, 1:]\n\ndata.head(5)",
      "execution_count": 13,
      "outputs": [
        {
          "output_type": "execute_result",
          "execution_count": 13,
          "data": {
            "text/html": "<div>\n<style scoped>\n    .dataframe tbody tr th:only-of-type {\n        vertical-align: middle;\n    }\n\n    .dataframe tbody tr th {\n        vertical-align: top;\n    }\n\n    .dataframe thead th {\n        text-align: right;\n    }\n</style>\n<table border=\"1\" class=\"dataframe\">\n  <thead>\n    <tr style=\"text-align: right;\">\n      <th></th>\n      <th>Code</th>\n      <th>Year</th>\n      <th>incidents</th>\n      <th>successes</th>\n      <th>Population</th>\n      <th>EducationPctGdp</th>\n      <th>FertilityRate</th>\n      <th>IncomePerCapita</th>\n      <th>InfantMortality</th>\n      <th>Homicidesper100k</th>\n      <th>Name</th>\n    </tr>\n  </thead>\n  <tbody>\n    <tr>\n      <th>0</th>\n      <td>AFG</td>\n      <td>1970</td>\n      <td>0.0</td>\n      <td>0.0</td>\n      <td>11126123.0</td>\n      <td>NaN</td>\n      <td>7.45</td>\n      <td>150.567338</td>\n      <td>204.8</td>\n      <td>NaN</td>\n      <td>Afghanistan</td>\n    </tr>\n    <tr>\n      <th>1</th>\n      <td>AFG</td>\n      <td>1971</td>\n      <td>0.0</td>\n      <td>0.0</td>\n      <td>11417825.0</td>\n      <td>1.16036</td>\n      <td>7.45</td>\n      <td>153.663587</td>\n      <td>201.0</td>\n      <td>NaN</td>\n      <td>Afghanistan</td>\n    </tr>\n    <tr>\n      <th>2</th>\n      <td>AFG</td>\n      <td>1972</td>\n      <td>0.0</td>\n      <td>0.0</td>\n      <td>11721940.0</td>\n      <td>1.11718</td>\n      <td>7.45</td>\n      <td>130.847360</td>\n      <td>197.0</td>\n      <td>NaN</td>\n      <td>Afghanistan</td>\n    </tr>\n    <tr>\n      <th>3</th>\n      <td>AFG</td>\n      <td>1973</td>\n      <td>1.0</td>\n      <td>0.0</td>\n      <td>12027822.0</td>\n      <td>1.42788</td>\n      <td>7.45</td>\n      <td>138.271770</td>\n      <td>193.1</td>\n      <td>NaN</td>\n      <td>Afghanistan</td>\n    </tr>\n    <tr>\n      <th>4</th>\n      <td>AFG</td>\n      <td>1974</td>\n      <td>0.0</td>\n      <td>0.0</td>\n      <td>12321541.0</td>\n      <td>NaN</td>\n      <td>7.45</td>\n      <td>167.507869</td>\n      <td>188.8</td>\n      <td>NaN</td>\n      <td>Afghanistan</td>\n    </tr>\n  </tbody>\n</table>\n</div>",
            "text/plain": "  Code  Year  incidents  successes  Population  EducationPctGdp  \\\n0  AFG  1970        0.0        0.0  11126123.0              NaN   \n1  AFG  1971        0.0        0.0  11417825.0          1.16036   \n2  AFG  1972        0.0        0.0  11721940.0          1.11718   \n3  AFG  1973        1.0        0.0  12027822.0          1.42788   \n4  AFG  1974        0.0        0.0  12321541.0              NaN   \n\n   FertilityRate  IncomePerCapita  InfantMortality  Homicidesper100k  \\\n0           7.45       150.567338            204.8               NaN   \n1           7.45       153.663587            201.0               NaN   \n2           7.45       130.847360            197.0               NaN   \n3           7.45       138.271770            193.1               NaN   \n4           7.45       167.507869            188.8               NaN   \n\n          Name  \n0  Afghanistan  \n1  Afghanistan  \n2  Afghanistan  \n3  Afghanistan  \n4  Afghanistan  "
          },
          "metadata": {}
        }
      ]
    },
    {
      "metadata": {
        "trusted": true
      },
      "cell_type": "code",
      "source": "countries_to_pick = pd.Series(country_names.Code.values, index = country_names.Name.values).to_dict()\ncountries_to_pick_inverted = {v: k for k, v in countries_to_pick.items()}\n\ndef code_to_name(codes): \n    names = []\n    for code in codes: \n        names.append(countries_to_pick_inverted[code])\n    return names\n    ",
      "execution_count": 23,
      "outputs": []
    },
    {
      "metadata": {
        "trusted": true
      },
      "cell_type": "code",
      "source": "\n\n\ncountry_w = widgets.SelectMultiple(\n    options=countries_to_pick,\n    value=['CAN', 'USA'],\n    description='Country:',\n    disabled=False,\n)\n\n@interact(country_codes = country_w)\ndef plot_infant_mort(country_codes): \n    print(country_codes)\n    for country_code in country_codes: \n        ds = data.loc[data.Code == country_code]\n        plt.plot(ds.Year, ds.InfantMortality)\n\n    \n    plt.ylabel('Infant Mortality Per 10,000 Births')\n    plt.xlabel('Year')\n    plt.title('Infant Mortality Comparison')\n    plt.legend(code_to_name(country_codes))\n    plt.show()\n    \n\n\n\n\n",
      "execution_count": 24,
      "outputs": [
        {
          "output_type": "display_data",
          "data": {
            "application/vnd.jupyter.widget-view+json": {
              "model_id": "9ecb54068a904ed2a8bd140db6c12c0c",
              "version_minor": 0,
              "version_major": 2
            },
            "text/plain": "interactive(children=(SelectMultiple(description='Country:', index=(31, 185), options={'Afghanistan': 'AFG', '…"
          },
          "metadata": {}
        }
      ]
    },
    {
      "metadata": {
        "trusted": true
      },
      "cell_type": "code",
      "source": "@interact(country_codes = country_w)\ndef plot_income(country_codes): \n    print(country_codes)\n    for country_code in country_codes: \n        ds = data.loc[data.Code == country_code]\n        plt.plot(ds.Year, ds.IncomePerCapita)\n\n    \n    plt.ylabel('US Dollar Income Per Capita, Adjusted for Inflation')\n    plt.xlabel('Year')\n    plt.title('Per Capita Income Comparison')\n    plt.legend(code_to_name(country_codes))\n    plt.show()\n\n",
      "execution_count": 26,
      "outputs": [
        {
          "output_type": "display_data",
          "data": {
            "application/vnd.jupyter.widget-view+json": {
              "model_id": "854b8e8221b94c42b42622856af41517",
              "version_minor": 0,
              "version_major": 2
            },
            "text/plain": "interactive(children=(SelectMultiple(description='Country:', index=(30, 31), options={'Afghanistan': 'AFG', 'A…"
          },
          "metadata": {}
        }
      ]
    }
  ],
  "metadata": {
    "kernelspec": {
      "name": "python36",
      "display_name": "Python 3.6",
      "language": "python"
    },
    "language_info": {
      "mimetype": "text/x-python",
      "nbconvert_exporter": "python",
      "name": "python",
      "pygments_lexer": "ipython3",
      "version": "3.6.6",
      "file_extension": ".py",
      "codemirror_mode": {
        "version": 3,
        "name": "ipython"
      }
    }
  },
  "nbformat": 4,
  "nbformat_minor": 1
}