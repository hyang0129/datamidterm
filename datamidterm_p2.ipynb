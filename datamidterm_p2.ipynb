{
  "cells": [
    {
      "metadata": {
        "trusted": true
      },
      "cell_type": "code",
      "source": "import os \n\nos.getcwd()",
      "execution_count": 72,
      "outputs": [
        {
          "output_type": "execute_result",
          "execution_count": 72,
          "data": {
            "text/plain": "'/home/nbuser/library'"
          },
          "metadata": {}
        }
      ]
    },
    {
      "metadata": {
        "trusted": true
      },
      "cell_type": "code",
      "source": "import pandas as pd \nimport ipywidgets as widgets\nfrom IPython.display import display\nfrom matplotlib import pyplot as plt \nfrom ipywidgets import interact, interactive, fixed, interact_manual\nimport numpy as np\n\n%matplotlib inline \n\ndata = pd.read_csv('midtermdata.csv')\n",
      "execution_count": 1,
      "outputs": []
    },
    {
      "metadata": {
        "trusted": true
      },
      "cell_type": "code",
      "source": "",
      "execution_count": null,
      "outputs": []
    },
    {
      "metadata": {
        "trusted": true
      },
      "cell_type": "code",
      "source": "countries = data.Code.unique()\ndata.loc[data['Code'] == 'AFG'].head(40)",
      "execution_count": 4,
      "outputs": [
        {
          "output_type": "execute_result",
          "execution_count": 4,
          "data": {
            "text/html": "<div>\n<style scoped>\n    .dataframe tbody tr th:only-of-type {\n        vertical-align: middle;\n    }\n\n    .dataframe tbody tr th {\n        vertical-align: top;\n    }\n\n    .dataframe thead th {\n        text-align: right;\n    }\n</style>\n<table border=\"1\" class=\"dataframe\">\n  <thead>\n    <tr style=\"text-align: right;\">\n      <th></th>\n      <th>Unnamed: 0</th>\n      <th>Code</th>\n      <th>Year</th>\n      <th>incidents</th>\n      <th>successes</th>\n      <th>Population</th>\n      <th>EducationPctGdp</th>\n      <th>FertilityRate</th>\n      <th>IncomePerCapita</th>\n      <th>InfantMortality</th>\n    </tr>\n  </thead>\n  <tbody>\n    <tr>\n      <th>0</th>\n      <td>0</td>\n      <td>AFG</td>\n      <td>1970</td>\n      <td>0.0</td>\n      <td>0.0</td>\n      <td>11126123.0</td>\n      <td>NaN</td>\n      <td>7.450</td>\n      <td>150.567338</td>\n      <td>204.8</td>\n    </tr>\n    <tr>\n      <th>1</th>\n      <td>1</td>\n      <td>AFG</td>\n      <td>1971</td>\n      <td>0.0</td>\n      <td>0.0</td>\n      <td>11417825.0</td>\n      <td>1.16036</td>\n      <td>7.450</td>\n      <td>153.663587</td>\n      <td>201.0</td>\n    </tr>\n    <tr>\n      <th>2</th>\n      <td>2</td>\n      <td>AFG</td>\n      <td>1972</td>\n      <td>0.0</td>\n      <td>0.0</td>\n      <td>11721940.0</td>\n      <td>1.11718</td>\n      <td>7.450</td>\n      <td>130.847360</td>\n      <td>197.0</td>\n    </tr>\n    <tr>\n      <th>3</th>\n      <td>3</td>\n      <td>AFG</td>\n      <td>1973</td>\n      <td>1.0</td>\n      <td>0.0</td>\n      <td>12027822.0</td>\n      <td>1.42788</td>\n      <td>7.450</td>\n      <td>138.271770</td>\n      <td>193.1</td>\n    </tr>\n    <tr>\n      <th>4</th>\n      <td>4</td>\n      <td>AFG</td>\n      <td>1974</td>\n      <td>0.0</td>\n      <td>0.0</td>\n      <td>12321541.0</td>\n      <td>NaN</td>\n      <td>7.450</td>\n      <td>167.507869</td>\n      <td>188.8</td>\n    </tr>\n    <tr>\n      <th>5</th>\n      <td>5</td>\n      <td>AFG</td>\n      <td>1975</td>\n      <td>0.0</td>\n      <td>0.0</td>\n      <td>12590286.0</td>\n      <td>1.30332</td>\n      <td>7.450</td>\n      <td>178.635551</td>\n      <td>184.7</td>\n    </tr>\n    <tr>\n      <th>6</th>\n      <td>6</td>\n      <td>AFG</td>\n      <td>1976</td>\n      <td>0.0</td>\n      <td>0.0</td>\n      <td>12840299.0</td>\n      <td>NaN</td>\n      <td>7.450</td>\n      <td>189.113162</td>\n      <td>180.6</td>\n    </tr>\n    <tr>\n      <th>7</th>\n      <td>7</td>\n      <td>AFG</td>\n      <td>1977</td>\n      <td>0.0</td>\n      <td>0.0</td>\n      <td>13067538.0</td>\n      <td>NaN</td>\n      <td>7.449</td>\n      <td>214.744437</td>\n      <td>176.3</td>\n    </tr>\n    <tr>\n      <th>8</th>\n      <td>8</td>\n      <td>AFG</td>\n      <td>1978</td>\n      <td>0.0</td>\n      <td>0.0</td>\n      <td>13237734.0</td>\n      <td>NaN</td>\n      <td>7.449</td>\n      <td>236.915946</td>\n      <td>172.0</td>\n    </tr>\n    <tr>\n      <th>9</th>\n      <td>9</td>\n      <td>AFG</td>\n      <td>1979</td>\n      <td>3.0</td>\n      <td>3.0</td>\n      <td>13306695.0</td>\n      <td>1.73398</td>\n      <td>7.449</td>\n      <td>263.661470</td>\n      <td>167.7</td>\n    </tr>\n    <tr>\n      <th>10</th>\n      <td>10</td>\n      <td>AFG</td>\n      <td>1980</td>\n      <td>0.0</td>\n      <td>0.0</td>\n      <td>13248370.0</td>\n      <td>1.83639</td>\n      <td>7.449</td>\n      <td>259.338014</td>\n      <td>163.3</td>\n    </tr>\n    <tr>\n      <th>11</th>\n      <td>11</td>\n      <td>AFG</td>\n      <td>1981</td>\n      <td>0.0</td>\n      <td>0.0</td>\n      <td>13053954.0</td>\n      <td>1.90443</td>\n      <td>7.449</td>\n      <td>252.110768</td>\n      <td>158.9</td>\n    </tr>\n    <tr>\n      <th>12</th>\n      <td>12</td>\n      <td>AFG</td>\n      <td>1982</td>\n      <td>0.0</td>\n      <td>0.0</td>\n      <td>12749645.0</td>\n      <td>1.73199</td>\n      <td>7.450</td>\n      <td>NaN</td>\n      <td>154.4</td>\n    </tr>\n    <tr>\n      <th>13</th>\n      <td>13</td>\n      <td>AFG</td>\n      <td>1983</td>\n      <td>0.0</td>\n      <td>0.0</td>\n      <td>12389269.0</td>\n      <td>NaN</td>\n      <td>7.452</td>\n      <td>NaN</td>\n      <td>149.8</td>\n    </tr>\n    <tr>\n      <th>14</th>\n      <td>14</td>\n      <td>AFG</td>\n      <td>1984</td>\n      <td>0.0</td>\n      <td>0.0</td>\n      <td>12047115.0</td>\n      <td>NaN</td>\n      <td>7.455</td>\n      <td>NaN</td>\n      <td>145.6</td>\n    </tr>\n    <tr>\n      <th>15</th>\n      <td>15</td>\n      <td>AFG</td>\n      <td>1985</td>\n      <td>0.0</td>\n      <td>0.0</td>\n      <td>11783050.0</td>\n      <td>NaN</td>\n      <td>7.458</td>\n      <td>NaN</td>\n      <td>141.3</td>\n    </tr>\n    <tr>\n      <th>16</th>\n      <td>16</td>\n      <td>AFG</td>\n      <td>1986</td>\n      <td>0.0</td>\n      <td>0.0</td>\n      <td>11601041.0</td>\n      <td>NaN</td>\n      <td>7.460</td>\n      <td>NaN</td>\n      <td>137.0</td>\n    </tr>\n    <tr>\n      <th>17</th>\n      <td>17</td>\n      <td>AFG</td>\n      <td>1987</td>\n      <td>1.0</td>\n      <td>1.0</td>\n      <td>11502761.0</td>\n      <td>NaN</td>\n      <td>7.461</td>\n      <td>NaN</td>\n      <td>132.7</td>\n    </tr>\n    <tr>\n      <th>18</th>\n      <td>18</td>\n      <td>AFG</td>\n      <td>1988</td>\n      <td>11.0</td>\n      <td>11.0</td>\n      <td>11540888.0</td>\n      <td>NaN</td>\n      <td>7.461</td>\n      <td>NaN</td>\n      <td>128.5</td>\n    </tr>\n    <tr>\n      <th>19</th>\n      <td>19</td>\n      <td>AFG</td>\n      <td>1989</td>\n      <td>10.0</td>\n      <td>6.0</td>\n      <td>11777609.0</td>\n      <td>NaN</td>\n      <td>7.461</td>\n      <td>NaN</td>\n      <td>124.3</td>\n    </tr>\n    <tr>\n      <th>20</th>\n      <td>20</td>\n      <td>AFG</td>\n      <td>1990</td>\n      <td>2.0</td>\n      <td>2.0</td>\n      <td>12249114.0</td>\n      <td>NaN</td>\n      <td>7.466</td>\n      <td>NaN</td>\n      <td>120.2</td>\n    </tr>\n    <tr>\n      <th>21</th>\n      <td>21</td>\n      <td>AFG</td>\n      <td>1991</td>\n      <td>30.0</td>\n      <td>30.0</td>\n      <td>12993657.0</td>\n      <td>NaN</td>\n      <td>7.479</td>\n      <td>NaN</td>\n      <td>116.4</td>\n    </tr>\n    <tr>\n      <th>22</th>\n      <td>22</td>\n      <td>AFG</td>\n      <td>1992</td>\n      <td>36.0</td>\n      <td>29.0</td>\n      <td>13981231.0</td>\n      <td>NaN</td>\n      <td>7.502</td>\n      <td>NaN</td>\n      <td>112.9</td>\n    </tr>\n    <tr>\n      <th>23</th>\n      <td>23</td>\n      <td>AFG</td>\n      <td>1993</td>\n      <td>0.0</td>\n      <td>0.0</td>\n      <td>15095099.0</td>\n      <td>NaN</td>\n      <td>7.535</td>\n      <td>NaN</td>\n      <td>109.5</td>\n    </tr>\n    <tr>\n      <th>24</th>\n      <td>24</td>\n      <td>AFG</td>\n      <td>1994</td>\n      <td>9.0</td>\n      <td>9.0</td>\n      <td>16172719.0</td>\n      <td>NaN</td>\n      <td>7.572</td>\n      <td>NaN</td>\n      <td>106.3</td>\n    </tr>\n    <tr>\n      <th>25</th>\n      <td>25</td>\n      <td>AFG</td>\n      <td>1995</td>\n      <td>6.0</td>\n      <td>5.0</td>\n      <td>17099541.0</td>\n      <td>NaN</td>\n      <td>7.606</td>\n      <td>NaN</td>\n      <td>103.3</td>\n    </tr>\n    <tr>\n      <th>26</th>\n      <td>26</td>\n      <td>AFG</td>\n      <td>1996</td>\n      <td>4.0</td>\n      <td>3.0</td>\n      <td>17822884.0</td>\n      <td>NaN</td>\n      <td>7.630</td>\n      <td>NaN</td>\n      <td>100.5</td>\n    </tr>\n    <tr>\n      <th>27</th>\n      <td>27</td>\n      <td>AFG</td>\n      <td>1997</td>\n      <td>1.0</td>\n      <td>1.0</td>\n      <td>18381605.0</td>\n      <td>NaN</td>\n      <td>7.635</td>\n      <td>NaN</td>\n      <td>97.9</td>\n    </tr>\n    <tr>\n      <th>28</th>\n      <td>28</td>\n      <td>AFG</td>\n      <td>1998</td>\n      <td>1.0</td>\n      <td>1.0</td>\n      <td>18863999.0</td>\n      <td>NaN</td>\n      <td>7.616</td>\n      <td>NaN</td>\n      <td>95.4</td>\n    </tr>\n    <tr>\n      <th>29</th>\n      <td>29</td>\n      <td>AFG</td>\n      <td>1999</td>\n      <td>9.0</td>\n      <td>9.0</td>\n      <td>19403676.0</td>\n      <td>NaN</td>\n      <td>7.569</td>\n      <td>NaN</td>\n      <td>93.1</td>\n    </tr>\n    <tr>\n      <th>30</th>\n      <td>30</td>\n      <td>AFG</td>\n      <td>2000</td>\n      <td>14.0</td>\n      <td>14.0</td>\n      <td>20093756.0</td>\n      <td>NaN</td>\n      <td>7.494</td>\n      <td>NaN</td>\n      <td>90.8</td>\n    </tr>\n    <tr>\n      <th>31</th>\n      <td>31</td>\n      <td>AFG</td>\n      <td>2001</td>\n      <td>14.0</td>\n      <td>14.0</td>\n      <td>20966463.0</td>\n      <td>NaN</td>\n      <td>7.392</td>\n      <td>106.812814</td>\n      <td>88.4</td>\n    </tr>\n    <tr>\n      <th>32</th>\n      <td>32</td>\n      <td>AFG</td>\n      <td>2002</td>\n      <td>38.0</td>\n      <td>28.0</td>\n      <td>21979923.0</td>\n      <td>NaN</td>\n      <td>7.271</td>\n      <td>169.884129</td>\n      <td>86.1</td>\n    </tr>\n    <tr>\n      <th>33</th>\n      <td>33</td>\n      <td>AFG</td>\n      <td>2003</td>\n      <td>100.0</td>\n      <td>93.0</td>\n      <td>23064851.0</td>\n      <td>NaN</td>\n      <td>7.136</td>\n      <td>178.725074</td>\n      <td>83.6</td>\n    </tr>\n    <tr>\n      <th>34</th>\n      <td>34</td>\n      <td>AFG</td>\n      <td>2004</td>\n      <td>88.0</td>\n      <td>79.0</td>\n      <td>24118979.0</td>\n      <td>NaN</td>\n      <td>6.988</td>\n      <td>196.199892</td>\n      <td>81.1</td>\n    </tr>\n    <tr>\n      <th>35</th>\n      <td>35</td>\n      <td>AFG</td>\n      <td>2005</td>\n      <td>155.0</td>\n      <td>150.0</td>\n      <td>25070798.0</td>\n      <td>NaN</td>\n      <td>6.827</td>\n      <td>225.798615</td>\n      <td>78.5</td>\n    </tr>\n    <tr>\n      <th>36</th>\n      <td>36</td>\n      <td>AFG</td>\n      <td>2006</td>\n      <td>282.0</td>\n      <td>273.0</td>\n      <td>25893450.0</td>\n      <td>NaN</td>\n      <td>6.651</td>\n      <td>245.146154</td>\n      <td>76.0</td>\n    </tr>\n    <tr>\n      <th>37</th>\n      <td>37</td>\n      <td>AFG</td>\n      <td>2007</td>\n      <td>341.0</td>\n      <td>336.0</td>\n      <td>26616792.0</td>\n      <td>NaN</td>\n      <td>6.460</td>\n      <td>331.325499</td>\n      <td>73.4</td>\n    </tr>\n    <tr>\n      <th>38</th>\n      <td>38</td>\n      <td>AFG</td>\n      <td>2008</td>\n      <td>414.0</td>\n      <td>385.0</td>\n      <td>27294031.0</td>\n      <td>NaN</td>\n      <td>6.254</td>\n      <td>331.227168</td>\n      <td>70.8</td>\n    </tr>\n    <tr>\n      <th>39</th>\n      <td>39</td>\n      <td>AFG</td>\n      <td>2009</td>\n      <td>503.0</td>\n      <td>477.0</td>\n      <td>28004331.0</td>\n      <td>NaN</td>\n      <td>6.038</td>\n      <td>395.567902</td>\n      <td>68.2</td>\n    </tr>\n  </tbody>\n</table>\n</div>",
            "text/plain": "    Unnamed: 0 Code  Year  incidents  successes  Population  EducationPctGdp  \\\n0            0  AFG  1970        0.0        0.0  11126123.0              NaN   \n1            1  AFG  1971        0.0        0.0  11417825.0          1.16036   \n2            2  AFG  1972        0.0        0.0  11721940.0          1.11718   \n3            3  AFG  1973        1.0        0.0  12027822.0          1.42788   \n4            4  AFG  1974        0.0        0.0  12321541.0              NaN   \n5            5  AFG  1975        0.0        0.0  12590286.0          1.30332   \n6            6  AFG  1976        0.0        0.0  12840299.0              NaN   \n7            7  AFG  1977        0.0        0.0  13067538.0              NaN   \n8            8  AFG  1978        0.0        0.0  13237734.0              NaN   \n9            9  AFG  1979        3.0        3.0  13306695.0          1.73398   \n10          10  AFG  1980        0.0        0.0  13248370.0          1.83639   \n11          11  AFG  1981        0.0        0.0  13053954.0          1.90443   \n12          12  AFG  1982        0.0        0.0  12749645.0          1.73199   \n13          13  AFG  1983        0.0        0.0  12389269.0              NaN   \n14          14  AFG  1984        0.0        0.0  12047115.0              NaN   \n15          15  AFG  1985        0.0        0.0  11783050.0              NaN   \n16          16  AFG  1986        0.0        0.0  11601041.0              NaN   \n17          17  AFG  1987        1.0        1.0  11502761.0              NaN   \n18          18  AFG  1988       11.0       11.0  11540888.0              NaN   \n19          19  AFG  1989       10.0        6.0  11777609.0              NaN   \n20          20  AFG  1990        2.0        2.0  12249114.0              NaN   \n21          21  AFG  1991       30.0       30.0  12993657.0              NaN   \n22          22  AFG  1992       36.0       29.0  13981231.0              NaN   \n23          23  AFG  1993        0.0        0.0  15095099.0              NaN   \n24          24  AFG  1994        9.0        9.0  16172719.0              NaN   \n25          25  AFG  1995        6.0        5.0  17099541.0              NaN   \n26          26  AFG  1996        4.0        3.0  17822884.0              NaN   \n27          27  AFG  1997        1.0        1.0  18381605.0              NaN   \n28          28  AFG  1998        1.0        1.0  18863999.0              NaN   \n29          29  AFG  1999        9.0        9.0  19403676.0              NaN   \n30          30  AFG  2000       14.0       14.0  20093756.0              NaN   \n31          31  AFG  2001       14.0       14.0  20966463.0              NaN   \n32          32  AFG  2002       38.0       28.0  21979923.0              NaN   \n33          33  AFG  2003      100.0       93.0  23064851.0              NaN   \n34          34  AFG  2004       88.0       79.0  24118979.0              NaN   \n35          35  AFG  2005      155.0      150.0  25070798.0              NaN   \n36          36  AFG  2006      282.0      273.0  25893450.0              NaN   \n37          37  AFG  2007      341.0      336.0  26616792.0              NaN   \n38          38  AFG  2008      414.0      385.0  27294031.0              NaN   \n39          39  AFG  2009      503.0      477.0  28004331.0              NaN   \n\n    FertilityRate  IncomePerCapita  InfantMortality  \n0           7.450       150.567338            204.8  \n1           7.450       153.663587            201.0  \n2           7.450       130.847360            197.0  \n3           7.450       138.271770            193.1  \n4           7.450       167.507869            188.8  \n5           7.450       178.635551            184.7  \n6           7.450       189.113162            180.6  \n7           7.449       214.744437            176.3  \n8           7.449       236.915946            172.0  \n9           7.449       263.661470            167.7  \n10          7.449       259.338014            163.3  \n11          7.449       252.110768            158.9  \n12          7.450              NaN            154.4  \n13          7.452              NaN            149.8  \n14          7.455              NaN            145.6  \n15          7.458              NaN            141.3  \n16          7.460              NaN            137.0  \n17          7.461              NaN            132.7  \n18          7.461              NaN            128.5  \n19          7.461              NaN            124.3  \n20          7.466              NaN            120.2  \n21          7.479              NaN            116.4  \n22          7.502              NaN            112.9  \n23          7.535              NaN            109.5  \n24          7.572              NaN            106.3  \n25          7.606              NaN            103.3  \n26          7.630              NaN            100.5  \n27          7.635              NaN             97.9  \n28          7.616              NaN             95.4  \n29          7.569              NaN             93.1  \n30          7.494              NaN             90.8  \n31          7.392       106.812814             88.4  \n32          7.271       169.884129             86.1  \n33          7.136       178.725074             83.6  \n34          6.988       196.199892             81.1  \n35          6.827       225.798615             78.5  \n36          6.651       245.146154             76.0  \n37          6.460       331.325499             73.4  \n38          6.254       331.227168             70.8  \n39          6.038       395.567902             68.2  "
          },
          "metadata": {}
        }
      ]
    },
    {
      "metadata": {
        "trusted": true
      },
      "cell_type": "code",
      "source": "",
      "execution_count": null,
      "outputs": []
    },
    {
      "metadata": {
        "trusted": true
      },
      "cell_type": "code",
      "source": "\n\n    \ncountry_w = widgets.SelectMultiple(\n    \n    options=list(countries),\n    value=['CAN', 'USA'],\n    description='Country:',\n    disabled=False,\n)\n\n@interact(country_codes = country_w)\ndef plot_infant_mort(country_codes): \n    print(country_codes)\n    for country_code in country_codes: \n        ds = data.loc[data.Code == country_code]\n        plt.plot(ds.Year, ds.InfantMortality)\n\n    \n    plt.ylabel('Infant Mortality Per 10,000 Births')\n    plt.xlabel('Year')\n    plt.title('Infant Mortality Comparison')\n    plt.legend(country_codes)\n    plt.show()\n    \n\n\n\n\n",
      "execution_count": 73,
      "outputs": [
        {
          "output_type": "display_data",
          "data": {
            "application/vnd.jupyter.widget-view+json": {
              "model_id": "28d568162ed54315a3f22c59eb557986",
              "version_minor": 0,
              "version_major": 2
            },
            "text/plain": "interactive(children=(SelectMultiple(description='Country:', index=(31, 185), options=('AFG', 'ALB', 'DZA', 'A…"
          },
          "metadata": {}
        }
      ]
    },
    {
      "metadata": {
        "trusted": true
      },
      "cell_type": "code",
      "source": "@interact(country_codes = country_w)\ndef plot_income(country_codes): \n    print(country_codes)\n    for country_code in country_codes: \n        ds = data.loc[data.Code == country_code]\n        plt.plot(ds.Year, ds.IncomePerCapita)\n\n    \n    plt.ylabel('US Dollar Income Per Capita, Adjusted for Inflation')\n    plt.xlabel('Year')\n    plt.title('Per Capita Income Comparison')\n    plt.legend(country_codes)\n    plt.show()\n\n",
      "execution_count": 74,
      "outputs": [
        {
          "output_type": "display_data",
          "data": {
            "application/vnd.jupyter.widget-view+json": {
              "model_id": "7ebc851613584488aa3bd5b68776dd99",
              "version_minor": 0,
              "version_major": 2
            },
            "text/plain": "interactive(children=(SelectMultiple(description='Country:', index=(31, 185), options=('AFG', 'ALB', 'DZA', 'A…"
          },
          "metadata": {}
        }
      ]
    }
  ],
  "metadata": {
    "kernelspec": {
      "name": "python36",
      "display_name": "Python 3.6",
      "language": "python"
    },
    "language_info": {
      "mimetype": "text/x-python",
      "nbconvert_exporter": "python",
      "name": "python",
      "pygments_lexer": "ipython3",
      "version": "3.6.6",
      "file_extension": ".py",
      "codemirror_mode": {
        "version": 3,
        "name": "ipython"
      }
    }
  },
  "nbformat": 4,
  "nbformat_minor": 1
}